{
 "cells": [
  {
   "cell_type": "code",
   "execution_count": 1,
   "id": "9370cdc9",
   "metadata": {},
   "outputs": [],
   "source": [
    "import sys\n",
    "import yaml\n",
    "from pathlib import Path\n",
    "\n",
    "PATH_MAIN_FOLDER = str(Path().parent.absolute().parents[0])\n",
    "PATH_CSV = f'{PATH_MAIN_FOLDER}/csv'\n",
    "\n",
    "# путь к модулям с утилитами\n",
    "sys.path.append(f'{PATH_MAIN_FOLDER}/scripts')\n",
    "\n",
    "# импортируем парсеры и обработчики\n",
    "from parsers_utils import *\n",
    "from keywords_preprocess import *\n",
    "\n",
    "# подгружаем конфиг\n",
    "with open(f'{PATH_MAIN_FOLDER}/config.yaml') as file:\n",
    "    config = yaml.safe_load(file)\n",
    "    \n",
    "# задаем глобальные переменные\n",
    "INDEX_TAGS = config['index_tags']\n",
    "LOGIN_ES = config['connect_to_elastic']\n",
    "MAX_SIZE = config['max_size']"
   ]
  },
  {
   "cell_type": "code",
   "execution_count": 2,
   "id": "a3dde72a",
   "metadata": {},
   "outputs": [],
   "source": [
    "# автообновление\n",
    "%load_ext autoreload\n",
    "\n",
    "%autoreload 2"
   ]
  },
  {
   "cell_type": "markdown",
   "id": "8cdef6a2",
   "metadata": {},
   "source": [
    "# Создаем спискок кейвордов или ссылок"
   ]
  },
  {
   "cell_type": "markdown",
   "id": "b90c8b7c",
   "metadata": {},
   "source": [
    "Добавить список кейвордов, разделить их переносом строки."
   ]
  },
  {
   "cell_type": "code",
   "execution_count": 4,
   "id": "2c907d5d",
   "metadata": {},
   "outputs": [],
   "source": [
    "# получаем список кейвордов в виде скопированной колонки из таблицы (разместить в кавычках тройных \"\"\"кейворды, каждый на своей строке\"\"\")\n",
    "keyworws = \"\"\"\n",
    "\n",
    "конструктор lego\n",
    "тапочки\n",
    "женские черные джинсы\n",
    "тетрадь с кольцами\n",
    "\n",
    "\"\"\""
   ]
  },
  {
   "cell_type": "markdown",
   "id": "3b26b4b9",
   "metadata": {},
   "source": [
    "# Анализируем список"
   ]
  },
  {
   "cell_type": "code",
   "execution_count": 5,
   "id": "4c2cc72b",
   "metadata": {},
   "outputs": [
    {
     "data": {
      "application/vnd.jupyter.widget-view+json": {
       "model_id": "2b636ef098be4987bf224d0f44cfcd10",
       "version_major": 2,
       "version_minor": 0
      },
      "text/plain": [
       "Проход кейвордов:   0%|          | 0/4 [00:00<?, ?it/s]"
      ]
     },
     "metadata": {},
     "output_type": "display_data"
    },
    {
     "data": {
      "application/vnd.jupyter.widget-view+json": {
       "model_id": "e54dc1983b004cff9f9c339fdcf71ab7",
       "version_major": 2,
       "version_minor": 0
      },
      "text/plain": [
       "Продажи с маяка:   0%|          | 0/10 [00:00<?, ?it/s]"
      ]
     },
     "metadata": {},
     "output_type": "display_data"
    },
    {
     "data": {
      "application/vnd.jupyter.widget-view+json": {
       "model_id": "b6e871b9ad284c14948afcac31d72e8d",
       "version_major": 2,
       "version_minor": 0
      },
      "text/plain": [
       "Продажи с маяка:   0%|          | 0/10 [00:00<?, ?it/s]"
      ]
     },
     "metadata": {},
     "output_type": "display_data"
    },
    {
     "data": {
      "application/vnd.jupyter.widget-view+json": {
       "model_id": "317d1908865c4d9698a0304714cabaca",
       "version_major": 2,
       "version_minor": 0
      },
      "text/plain": [
       "Продажи с маяка:   0%|          | 0/10 [00:00<?, ?it/s]"
      ]
     },
     "metadata": {},
     "output_type": "display_data"
    },
    {
     "data": {
      "application/vnd.jupyter.widget-view+json": {
       "model_id": "4c2c40cbbb744fd8984fd14c196bcd0b",
       "version_major": 2,
       "version_minor": 0
      },
      "text/plain": [
       "Продажи с маяка:   0%|          | 0/10 [00:00<?, ?it/s]"
      ]
     },
     "metadata": {},
     "output_type": "display_data"
    }
   ],
   "source": [
    "df = analyze_keywords(keyworws)"
   ]
  },
  {
   "cell_type": "code",
   "execution_count": 6,
   "id": "abd7d753",
   "metadata": {},
   "outputs": [
    {
     "data": {
      "text/html": [
       "<div>\n",
       "<style scoped>\n",
       "    .dataframe tbody tr th:only-of-type {\n",
       "        vertical-align: middle;\n",
       "    }\n",
       "\n",
       "    .dataframe tbody tr th {\n",
       "        vertical-align: top;\n",
       "    }\n",
       "\n",
       "    .dataframe thead th {\n",
       "        text-align: right;\n",
       "    }\n",
       "</style>\n",
       "<table border=\"1\" class=\"dataframe\">\n",
       "  <thead>\n",
       "    <tr style=\"text-align: right;\">\n",
       "      <th></th>\n",
       "      <th>Ключевое слово</th>\n",
       "      <th>Кол-во товара в списке</th>\n",
       "      <th>Ср. продажи топ 10 в мес в шт.</th>\n",
       "      <th>Ср. оборот топ 10 в мес в ₽</th>\n",
       "      <th>Ср. цена продажи топ 10</th>\n",
       "    </tr>\n",
       "  </thead>\n",
       "  <tbody>\n",
       "    <tr>\n",
       "      <th>0</th>\n",
       "      <td>конструктор lego</td>\n",
       "      <td>7727</td>\n",
       "      <td>2282</td>\n",
       "      <td>4253648</td>\n",
       "      <td>1864</td>\n",
       "    </tr>\n",
       "    <tr>\n",
       "      <th>2</th>\n",
       "      <td>женские черные джинсы</td>\n",
       "      <td>6824</td>\n",
       "      <td>551</td>\n",
       "      <td>1275014</td>\n",
       "      <td>2314</td>\n",
       "    </tr>\n",
       "    <tr>\n",
       "      <th>1</th>\n",
       "      <td>тапочки</td>\n",
       "      <td>20951</td>\n",
       "      <td>1059</td>\n",
       "      <td>723297</td>\n",
       "      <td>683</td>\n",
       "    </tr>\n",
       "    <tr>\n",
       "      <th>3</th>\n",
       "      <td>тетрадь с кольцами</td>\n",
       "      <td>1047</td>\n",
       "      <td>484</td>\n",
       "      <td>171820</td>\n",
       "      <td>355</td>\n",
       "    </tr>\n",
       "  </tbody>\n",
       "</table>\n",
       "</div>"
      ],
      "text/plain": [
       "          Ключевое слово Кол-во товара в списке  \\\n",
       "0       конструктор lego                   7727   \n",
       "2  женские черные джинсы                   6824   \n",
       "1                тапочки                  20951   \n",
       "3     тетрадь с кольцами                   1047   \n",
       "\n",
       "  Ср. продажи топ 10 в мес в шт. Ср. оборот топ 10 в мес в ₽  \\\n",
       "0                           2282                     4253648   \n",
       "2                            551                     1275014   \n",
       "1                           1059                      723297   \n",
       "3                            484                      171820   \n",
       "\n",
       "  Ср. цена продажи топ 10  \n",
       "0                    1864  \n",
       "2                    2314  \n",
       "1                     683  \n",
       "3                     355  "
      ]
     },
     "execution_count": 6,
     "metadata": {},
     "output_type": "execute_result"
    }
   ],
   "source": [
    "df"
   ]
  },
  {
   "cell_type": "markdown",
   "id": "92480b92",
   "metadata": {},
   "source": [
    "На выходе - таблица с расчетами."
   ]
  },
  {
   "cell_type": "markdown",
   "id": "e8d84766",
   "metadata": {},
   "source": [
    "# Сохраняем таблицу в папку csv"
   ]
  },
  {
   "cell_type": "code",
   "execution_count": 7,
   "id": "559ddd07",
   "metadata": {},
   "outputs": [],
   "source": [
    "save_csv(df, PATH_CSV)"
   ]
  },
  {
   "cell_type": "markdown",
   "id": "9ec3b6fa",
   "metadata": {},
   "source": [
    "# Получаем список кейвордов из Elasticsearch и сохраняем в txt"
   ]
  },
  {
   "cell_type": "code",
   "execution_count": 8,
   "id": "cf6ec859",
   "metadata": {},
   "outputs": [
    {
     "data": {
      "application/vnd.jupyter.widget-view+json": {
       "model_id": "1e66f084a4104e37902bd0041aac2899",
       "version_major": 2,
       "version_minor": 0
      },
      "text/plain": [
       "  0%|          | 0/4 [00:00<?, ?it/s]"
      ]
     },
     "metadata": {},
     "output_type": "display_data"
    },
    {
     "name": "stderr",
     "output_type": "stream",
     "text": [
      "/home/serg/PycharmProjects/tovarka_top_10/scripts/elastic_utils.py:30: ElasticsearchWarning: The client is unable to verify that the server is Elasticsearch due security privileges on the server side\n",
      "  elastic_answ = es.search(**query)\n"
     ]
    }
   ],
   "source": [
    "keywords_to_txt(df, INDEX_TAGS, LOGIN_ES, MAX_SIZE, PATH_MAIN_FOLDER)"
   ]
  },
  {
   "cell_type": "code",
   "execution_count": null,
   "id": "52d7c2c2",
   "metadata": {},
   "outputs": [],
   "source": []
  }
 ],
 "metadata": {
  "kernelspec": {
   "display_name": "Python 3 (ipykernel)",
   "language": "python",
   "name": "python3"
  },
  "language_info": {
   "codemirror_mode": {
    "name": "ipython",
    "version": 3
   },
   "file_extension": ".py",
   "mimetype": "text/x-python",
   "name": "python",
   "nbconvert_exporter": "python",
   "pygments_lexer": "ipython3",
   "version": "3.8.10"
  }
 },
 "nbformat": 4,
 "nbformat_minor": 5
}
